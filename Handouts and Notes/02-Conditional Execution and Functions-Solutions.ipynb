{
 "cells": [
  {
   "cell_type": "markdown",
   "metadata": {},
   "source": [
    "# Session 2. Conditional Execution and Functions (with Solutions)\n",
    "\n",
    "## 1. Conditional Execution\n",
    "\n",
    "**Example 1:** The following program calculates a worker's weekly pay based on the following contract: for the first 40 hours, the hourly pay is 10. After that there is a 50 percent bonus per additional hour worked."
   ]
  },
  {
   "cell_type": "code",
   "execution_count": 1,
   "metadata": {},
   "outputs": [
    {
     "name": "stdout",
     "output_type": "stream",
     "text": [
      "Hours worked this week: 42\n",
      "Total pay: 430.0\n"
     ]
    }
   ],
   "source": [
    "hours=float(input('Hours worked this week: '))\n",
    "if hours<=40:\n",
    "    pay=hours*10\n",
    "else:\n",
    "    pay=40*10+(hours-40)*15\n",
    "print('Total pay:',pay)"
   ]
  },
  {
   "cell_type": "markdown",
   "metadata": {},
   "source": [
    "**Example 2:** The following program asks for the user's systolic and diastolic blood pressure, and output one of `LOW`, `IDEAL`, `PRE-HIGH` or `HIGH` according to this chart:\n",
    "\n",
    "![Blood pressure chart](blood_chart.png)"
   ]
  },
  {
   "cell_type": "code",
   "execution_count": 2,
   "metadata": {},
   "outputs": [
    {
     "name": "stdout",
     "output_type": "stream",
     "text": [
      "Systolic blood pressure: 100\n",
      "Diastolic blood pressure: 70\n",
      "Your blood pressure is IDEAL\n"
     ]
    }
   ],
   "source": [
    "high=float(input('Systolic blood pressure: '))\n",
    "low=float(input('Diastolic blood pressure: '))\n",
    "if low<=60 and high<=90:\n",
    "    answer='LOW'\n",
    "elif low<=80 and high<=120:\n",
    "    answer='IDEAL'\n",
    "elif low<=90 and high<=140:\n",
    "    answer='PRE-HIGH'\n",
    "else:\n",
    "    answer='HIGH'\n",
    "print('Your blood pressure is',answer)"
   ]
  },
  {
   "cell_type": "markdown",
   "metadata": {},
   "source": [
    "**Example 3:** The following program implements a primitive protocol for triaging asymptomatic individuals for risk of COVID-19."
   ]
  },
  {
   "cell_type": "code",
   "execution_count": 3,
   "metadata": {},
   "outputs": [
    {
     "name": "stdout",
     "output_type": "stream",
     "text": [
      "Having been in one of the high risk countries in the past 14 days? (yes/no): no\n",
      "Have you been in contact with any recent travelers to one of those countries? (yes/no): no\n",
      "You have low risks as long as you practice the regular precautions in a flu season.\n"
     ]
    }
   ],
   "source": [
    "Q1=input('Having been in one of the high risk countries in the past 14 days? (yes/no): ')\n",
    "if Q1=='yes':\n",
    "    print('You should be quarantined for 14 days.')\n",
    "else:\n",
    "    Q2=input('Have you been in contact with any recent travelers to one of those countries? (yes/no): ')\n",
    "    if Q2=='yes':\n",
    "        print('You should consider self-quarantine for 14 days.')\n",
    "    else:\n",
    "        print('You have low risks as long as you practice the regular precautions in a flu season.')"
   ]
  },
  {
   "cell_type": "markdown",
   "metadata": {},
   "source": [
    "## Q1. Basestock Policy in Inventory Management\n",
    "\n",
    "Write a program that asks the user for the current inventory level. If the inventory is at least equal to the target level of $100$, then output \"Sufficient inventory. No need to order.\" \n",
    "\n",
    "Otherwise, output \"Order x units\", where $x$ is the target minus the current inventory."
   ]
  },
  {
   "cell_type": "code",
   "execution_count": 4,
   "metadata": {},
   "outputs": [
    {
     "name": "stdout",
     "output_type": "stream",
     "text": [
      "Current inventory: 75\n",
      "Order 25 units.\n"
     ]
    }
   ],
   "source": [
    "basestock=100\n",
    "inventory=input('Current inventory: ')\n",
    "inventory=int(inventory)\n",
    "if inventory>=basestock:\n",
    "    print('Sufficient inventory. No need to order.')\n",
    "else:\n",
    "    print(f'Order {basestock-inventory} units.')"
   ]
  },
  {
   "cell_type": "markdown",
   "metadata": {},
   "source": [
    "## Q2. Blood Sugar Checker\n",
    "\n",
    "Write a program that asks the user how many hours they have fasted and their current blood sugar level. \n",
    "\n",
    "- If they have fasted less than 2 hours, then output \"You need to fast at least 2 hours to perform this test.\" \n",
    "- If they fasted at least 2 hours but less than 8 hours, then output \"Your blood sugar level is high\" if it is more than 140, and \"Your blood sugar level is normal\" otherwise. \n",
    "- If they have fasted for at least 8 hours, then the threshold for normal sugar level changes from 140 to 100."
   ]
  },
  {
   "cell_type": "code",
   "execution_count": 5,
   "metadata": {},
   "outputs": [
    {
     "name": "stdout",
     "output_type": "stream",
     "text": [
      "How many hours have you fasted: 2\n",
      "What is your blood sugar level: 110\n",
      "Your blood suguar level is normal.\n"
     ]
    }
   ],
   "source": [
    "hours=float(input('How many hours have you fasted: '))\n",
    "level=float(input('What is your blood sugar level: '))\n",
    "high_msg='Your blood sugar level is high.'\n",
    "low_msg='Your blood suguar level is normal.'\n",
    "if hours<2:\n",
    "    print('You need to fast at least 2 hours to perform this test.')\n",
    "elif hours<8:\n",
    "    if level>140:    \n",
    "        print(high_msg)\n",
    "    else:\n",
    "        print(low_msg)\n",
    "else:\n",
    "    if level>100:    \n",
    "        print(high_msg)\n",
    "    else:\n",
    "        print(low_msg)"
   ]
  },
  {
   "cell_type": "markdown",
   "metadata": {},
   "source": [
    "## 2. Functions\n",
    "\n",
    "**Example 4:** The following function makes the logic in Example 1 reusable. "
   ]
  },
  {
   "cell_type": "code",
   "execution_count": 6,
   "metadata": {},
   "outputs": [
    {
     "name": "stdout",
     "output_type": "stream",
     "text": [
      "Pay for 42 hours under default base and bonus: 430.0\n",
      "Pay for 42 hours under $12/hour base and default bonus: 516.0\n",
      "Pay for 42 hours under $12/hour base and 60% bonus: 518.4\n",
      "Pay for 42 hours with default base and 60% bonus: 432.0\n"
     ]
    }
   ],
   "source": [
    "def calculateWage(hours,base=10,bonus=.5):\n",
    "    ''' Calculates weekly wage '''\n",
    "    if hours<=40:\n",
    "        pay=hours*base\n",
    "    else:\n",
    "        pay=40*base+(hours-40)*base*(1+bonus)\n",
    "    return pay\n",
    "\n",
    "print('Pay for 42 hours under default base and bonus:',calculateWage(42))\n",
    "print('Pay for 42 hours under $12/hour base and default bonus:',calculateWage(42,12))\n",
    "print('Pay for 42 hours under $12/hour base and 60% bonus:', calculateWage(42,12,.6))\n",
    "print('Pay for 42 hours with default base and 60% bonus:',calculateWage(42,bonus=0.6))"
   ]
  },
  {
   "cell_type": "code",
   "execution_count": 7,
   "metadata": {},
   "outputs": [
    {
     "name": "stdout",
     "output_type": "stream",
     "text": [
      "Help on function calculateWage in module __main__:\n",
      "\n",
      "calculateWage(hours, base=10, bonus=0.5)\n",
      "    Calculates weekly wage\n",
      "\n"
     ]
    }
   ],
   "source": [
    "help(calculateWage)"
   ]
  },
  {
   "cell_type": "markdown",
   "metadata": {},
   "source": [
    "## Q3. Making the Solution for Q1 and Q2 Reusable\n",
    "\n",
    "**a)** Write a function called \"orderQuantity\" with two input arguments \n",
    "\n",
    "- **inventory** (default value 0): number of items on hand.\n",
    "- **basestock** (default value 100): the target inventory level.\n",
    "\n",
    "If inventory is at least equal to basestock, then return 0. Otherwise, return how many items you should order to meet the target. Include an appropriate docstring to explain what the function does."
   ]
  },
  {
   "cell_type": "code",
   "execution_count": 8,
   "metadata": {},
   "outputs": [],
   "source": [
    "def orderQuantity(inventory=0,basestock=100):\n",
    "    '''Calculates order quantity given current inventory and basestock level\n",
    "              - inventory: number of items on hand\n",
    "              - basetock: the target inventory level\n",
    "    '''\n",
    "    # notes for programmer only. (comment)\n",
    "    if inventory>=basestock:\n",
    "        return 0\n",
    "    else:\n",
    "        return basestock-inventory"
   ]
  },
  {
   "cell_type": "code",
   "execution_count": 9,
   "metadata": {},
   "outputs": [
    {
     "name": "stdout",
     "output_type": "stream",
     "text": [
      "Help on function orderQuantity in module __main__:\n",
      "\n",
      "orderQuantity(inventory=0, basestock=100)\n",
      "    Calculates order quantity given current inventory and basestock level\n",
      "    - inventory: number of items on hand\n",
      "    - basetock: the target inventory level\n",
      "\n"
     ]
    }
   ],
   "source": [
    "help(orderQuantity)"
   ]
  },
  {
   "cell_type": "code",
   "execution_count": 23,
   "metadata": {},
   "outputs": [
    {
     "data": {
      "text/plain": [
       "100"
      ]
     },
     "execution_count": 23,
     "metadata": {},
     "output_type": "execute_result"
    }
   ],
   "source": [
    "# Code to test your function\n",
    "orderQuantity()"
   ]
  },
  {
   "cell_type": "code",
   "execution_count": 11,
   "metadata": {},
   "outputs": [
    {
     "data": {
      "text/plain": [
       "110"
      ]
     },
     "execution_count": 11,
     "metadata": {},
     "output_type": "execute_result"
    }
   ],
   "source": [
    "orderQuantity()+10"
   ]
  },
  {
   "cell_type": "code",
   "execution_count": 12,
   "metadata": {},
   "outputs": [
    {
     "data": {
      "text/plain": [
       "75"
      ]
     },
     "execution_count": 12,
     "metadata": {},
     "output_type": "execute_result"
    }
   ],
   "source": [
    "orderQuantity(25)"
   ]
  },
  {
   "cell_type": "code",
   "execution_count": 13,
   "metadata": {},
   "outputs": [
    {
     "data": {
      "text/plain": [
       "0"
      ]
     },
     "execution_count": 13,
     "metadata": {},
     "output_type": "execute_result"
    }
   ],
   "source": [
    "orderQuantity(51,50)"
   ]
  },
  {
   "cell_type": "code",
   "execution_count": 14,
   "metadata": {},
   "outputs": [
    {
     "data": {
      "text/plain": [
       "200"
      ]
     },
     "execution_count": 14,
     "metadata": {},
     "output_type": "execute_result"
    }
   ],
   "source": [
    "orderQuantity(basestock=200)"
   ]
  },
  {
   "cell_type": "code",
   "execution_count": 15,
   "metadata": {},
   "outputs": [
    {
     "data": {
      "text/plain": [
       "20"
      ]
     },
     "execution_count": 15,
     "metadata": {},
     "output_type": "execute_result"
    }
   ],
   "source": [
    "orderQuantity(inventory=80)"
   ]
  },
  {
   "cell_type": "code",
   "execution_count": 16,
   "metadata": {},
   "outputs": [
    {
     "name": "stdout",
     "output_type": "stream",
     "text": [
      "Help on function orderQuantity in module __main__:\n",
      "\n",
      "orderQuantity(inventory=0, basestock=100)\n",
      "    Calculates order quantity given current inventory and basestock level\n",
      "    - inventory: number of items on hand\n",
      "    - basetock: the target inventory level\n",
      "\n"
     ]
    }
   ],
   "source": [
    "help(orderQuantity)"
   ]
  },
  {
   "cell_type": "markdown",
   "metadata": {},
   "source": [
    "**b)** Write a function called \"bloodSugarCheck\" with two input arguments:\n",
    "\n",
    "- **hours**: the number hours the patient has fasted.\n",
    "- **level**: the patient's blood sugar level.\n",
    "\n",
    "Following the logic of Q2, the function should return a message which is one of the following:\n",
    "\n",
    "1. 'You need to fast at least 2 hours to perform this test.`\n",
    "2. 'Your blood sugar level is high.'\n",
    "3. 'Your blood sugar level is normal.'\n",
    "\n",
    "Include a suitable docstring."
   ]
  },
  {
   "cell_type": "code",
   "execution_count": 17,
   "metadata": {},
   "outputs": [],
   "source": [
    "def bloodSugarCheck(hours,level):\n",
    "    # this is a comment (Computer completely ignores all comments)\n",
    "    'doc-string: documentation about the function' # Computer doesnt ignore doc-string\n",
    "    high_msg='Your blood sugar level is high.'\n",
    "    low_msg='Your blood suguar level is normal.'\n",
    "    if hours<2:\n",
    "        return 'You need to fast at least 2 hours to perform this test.'\n",
    "    elif hours<8:\n",
    "        if level>140:    \n",
    "            return high_msg\n",
    "        else:\n",
    "            return low_msg\n",
    "    else:\n",
    "        if level>100:    \n",
    "            return high_msg\n",
    "        else:\n",
    "            return low_msg"
   ]
  },
  {
   "cell_type": "code",
   "execution_count": 18,
   "metadata": {},
   "outputs": [
    {
     "name": "stdout",
     "output_type": "stream",
     "text": [
      "Help on function bloodSugarCheck in module __main__:\n",
      "\n",
      "bloodSugarCheck(hours, level)\n",
      "    doc-string: documentation about the function\n",
      "\n"
     ]
    }
   ],
   "source": [
    "help(bloodSugarCheck)"
   ]
  },
  {
   "cell_type": "code",
   "execution_count": 19,
   "metadata": {},
   "outputs": [
    {
     "data": {
      "text/plain": [
       "'You need to fast at least 2 hours to perform this test.'"
      ]
     },
     "execution_count": 19,
     "metadata": {},
     "output_type": "execute_result"
    }
   ],
   "source": [
    "# Test code\n",
    "bloodSugarCheck(1,100)"
   ]
  },
  {
   "cell_type": "code",
   "execution_count": 20,
   "metadata": {},
   "outputs": [
    {
     "data": {
      "text/plain": [
       "'Your blood suguar level is normal.'"
      ]
     },
     "execution_count": 20,
     "metadata": {},
     "output_type": "execute_result"
    }
   ],
   "source": [
    "bloodSugarCheck(2,110)"
   ]
  },
  {
   "cell_type": "code",
   "execution_count": 21,
   "metadata": {},
   "outputs": [
    {
     "data": {
      "text/plain": [
       "'Your blood sugar level is high.'"
      ]
     },
     "execution_count": 21,
     "metadata": {},
     "output_type": "execute_result"
    }
   ],
   "source": [
    "bloodSugarCheck(8,110)"
   ]
  },
  {
   "cell_type": "code",
   "execution_count": 22,
   "metadata": {},
   "outputs": [
    {
     "name": "stdout",
     "output_type": "stream",
     "text": [
      "Help on function bloodSugarCheck in module __main__:\n",
      "\n",
      "bloodSugarCheck(hours, level)\n",
      "    doc-string: documentation about the function\n",
      "\n"
     ]
    }
   ],
   "source": [
    "help(bloodSugarCheck)"
   ]
  }
 ],
 "metadata": {
  "kernelspec": {
   "display_name": "Python 3",
   "language": "python",
   "name": "python3"
  },
  "language_info": {
   "codemirror_mode": {
    "name": "ipython",
    "version": 3
   },
   "file_extension": ".py",
   "mimetype": "text/x-python",
   "name": "python",
   "nbconvert_exporter": "python",
   "pygments_lexer": "ipython3",
   "version": "3.7.6"
  }
 },
 "nbformat": 4,
 "nbformat_minor": 2
}
