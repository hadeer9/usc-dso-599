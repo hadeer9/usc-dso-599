{
 "cells": [
  {
   "cell_type": "markdown",
   "metadata": {},
   "source": [
    "# Session 6. Loop Logic I"
   ]
  },
  {
   "cell_type": "markdown",
   "metadata": {},
   "source": [
    "## 1. Syntax of `for` loops"
   ]
  },
  {
   "cell_type": "code",
   "execution_count": 1,
   "metadata": {},
   "outputs": [
    {
     "name": "stdout",
     "output_type": "stream",
     "text": [
      "Count down: 5\n",
      "Count down: 4\n",
      "Count down: 3\n",
      "Count down: 2\n",
      "Count down: 1\n",
      "Take off!\n"
     ]
    }
   ],
   "source": [
    "for i in [5,4,3,2,1]:\n",
    "    print('Count down:',i)\n",
    "print('Take off!')"
   ]
  },
  {
   "cell_type": "code",
   "execution_count": 2,
   "metadata": {},
   "outputs": [
    {
     "name": "stdout",
     "output_type": "stream",
     "text": [
      "Hi Alice!\n",
      "Hi Bob!\n",
      "Hi Charles!\n"
     ]
    }
   ],
   "source": [
    "for name in ['Alice','Bob','Charles']:\n",
    "    print(f'Hi {name}!')"
   ]
  },
  {
   "cell_type": "markdown",
   "metadata": {},
   "source": [
    "## Q1. Practicing `for` loops\n",
    "\n",
    "**a)** Write a for loop to print the multiplication table for multiplying by 2, as in the sample output below."
   ]
  },
  {
   "cell_type": "code",
   "execution_count": 3,
   "metadata": {},
   "outputs": [
    {
     "name": "stdout",
     "output_type": "stream",
     "text": [
      "1 x 2 = 2\n",
      "2 x 2 = 4\n",
      "3 x 2 = 6\n",
      "4 x 2 = 8\n",
      "5 x 2 = 10\n",
      "6 x 2 = 12\n",
      "7 x 2 = 14\n",
      "8 x 2 = 16\n",
      "9 x 2 = 18\n"
     ]
    }
   ],
   "source": []
  },
  {
   "cell_type": "markdown",
   "metadata": {},
   "source": [
    "**b)** Write a for loop which takes in a list of names, such as `l=['Alice','Bob','Charles']`, and print the number of characters in each name, as below. Hint: you can use the `len` function to find the length of a string, as below.\n",
    "```python\n",
    "len('Alice')\n",
    "```"
   ]
  },
  {
   "cell_type": "code",
   "execution_count": 4,
   "metadata": {},
   "outputs": [
    {
     "name": "stdout",
     "output_type": "stream",
     "text": [
      "The name Alice has length 5.\n",
      "The name Bob has length 3.\n",
      "The name Charles has length 7.\n"
     ]
    }
   ],
   "source": []
  },
  {
   "cell_type": "markdown",
   "metadata": {},
   "source": [
    "### Example 1: Automating emails"
   ]
  },
  {
   "cell_type": "code",
   "execution_count": 5,
   "metadata": {},
   "outputs": [
    {
     "data": {
      "text/plain": [
       "[['Alice', 'MBA'], ['Bob', 'MBA'], ['Charles', 'MSBA']]"
      ]
     },
     "execution_count": 5,
     "metadata": {},
     "output_type": "execute_result"
    }
   ],
   "source": [
    "data=[]\n",
    "data.append(['Alice','MBA'])\n",
    "data.append(['Bob','MBA'])\n",
    "data.append(['Charles','MSBA'])\n",
    "data"
   ]
  },
  {
   "cell_type": "code",
   "execution_count": 6,
   "metadata": {},
   "outputs": [
    {
     "name": "stdout",
     "output_type": "stream",
     "text": [
      "Dear Alice,\n",
      "Congratulations! You have been accepted into the MBA Program at USC for Fall 2020.\n",
      "You will receive more details in a packet soon. Hope to see you soon!\n",
      "USC Admissions\n",
      "    \n",
      "Dear Bob,\n",
      "Congratulations! You have been accepted into the MBA Program at USC for Fall 2020.\n",
      "You will receive more details in a packet soon. Hope to see you soon!\n",
      "USC Admissions\n",
      "    \n",
      "Dear Charles,\n",
      "Congratulations! You have been accepted into the MSBA Program at USC for Fall 2020.\n",
      "You will receive more details in a packet soon. Hope to see you soon!\n",
      "USC Admissions\n",
      "    \n"
     ]
    }
   ],
   "source": [
    "for element in data:\n",
    "    name,program=element\n",
    "    email=f'''Dear {name},\n",
    "Congratulations! You have been accepted into the {program} Program at USC for Fall 2020.\n",
    "You will receive more details in a packet soon. Hope to see you soon!\n",
    "USC Admissions\n",
    "    '''\n",
    "    print(email)"
   ]
  },
  {
   "cell_type": "markdown",
   "metadata": {},
   "source": [
    "### 1.2 Digression: Using `range` to specify what to iterate over"
   ]
  },
  {
   "cell_type": "code",
   "execution_count": 7,
   "metadata": {},
   "outputs": [
    {
     "data": {
      "text/plain": [
       "[5, 4, 3, 2, 1]"
      ]
     },
     "execution_count": 7,
     "metadata": {},
     "output_type": "execute_result"
    }
   ],
   "source": [
    "list(range(5,0,-1))"
   ]
  },
  {
   "cell_type": "code",
   "execution_count": 8,
   "metadata": {},
   "outputs": [
    {
     "name": "stdout",
     "output_type": "stream",
     "text": [
      "Count down: 5\n",
      "Count down: 4\n",
      "Count down: 3\n",
      "Count down: 2\n",
      "Count down: 1\n",
      "Take off!\n"
     ]
    }
   ],
   "source": [
    "for i in range(5,0,-1):\n",
    "    print('Count down:',i)\n",
    "print('Take off!')"
   ]
  },
  {
   "cell_type": "code",
   "execution_count": 9,
   "metadata": {},
   "outputs": [
    {
     "data": {
      "text/plain": [
       "[0, 1, 2, 3, 4]"
      ]
     },
     "execution_count": 9,
     "metadata": {},
     "output_type": "execute_result"
    }
   ],
   "source": [
    "list(range(0,5))"
   ]
  },
  {
   "cell_type": "code",
   "execution_count": 10,
   "metadata": {},
   "outputs": [
    {
     "data": {
      "text/plain": [
       "[0, 1, 2, 3, 4]"
      ]
     },
     "execution_count": 10,
     "metadata": {},
     "output_type": "execute_result"
    }
   ],
   "source": [
    "list(range(5))"
   ]
  },
  {
   "cell_type": "code",
   "execution_count": 11,
   "metadata": {},
   "outputs": [
    {
     "name": "stdout",
     "output_type": "stream",
     "text": [
      "Repeating five times.\n",
      "Repeating five times.\n",
      "Repeating five times.\n",
      "Repeating five times.\n",
      "Repeating five times.\n"
     ]
    }
   ],
   "source": [
    "for i in range(5):\n",
    "    print('Repeating five times.')"
   ]
  },
  {
   "cell_type": "markdown",
   "metadata": {},
   "source": [
    "## Q2. Practicing `range` and `for` loops\n",
    "\n",
    "**a)** Write one line of code using `range` which generates the list of odd numbers from 1 to 29."
   ]
  },
  {
   "cell_type": "code",
   "execution_count": 12,
   "metadata": {},
   "outputs": [
    {
     "data": {
      "text/plain": [
       "[1, 3, 5, 7, 9, 11, 13, 15, 17, 19, 21, 23, 25, 27, 29]"
      ]
     },
     "execution_count": 12,
     "metadata": {},
     "output_type": "execute_result"
    }
   ],
   "source": []
  },
  {
   "cell_type": "markdown",
   "metadata": {},
   "source": [
    "**b)** Write a function `squares` with one input parameter `n` (assumed to be a positive integer). The function should print the squares of the first `n` positive integers, as shown below. "
   ]
  },
  {
   "cell_type": "code",
   "execution_count": 13,
   "metadata": {},
   "outputs": [],
   "source": []
  },
  {
   "cell_type": "code",
   "execution_count": 14,
   "metadata": {},
   "outputs": [
    {
     "name": "stdout",
     "output_type": "stream",
     "text": [
      "1 x 1 = 1\n",
      "2 x 2 = 4\n",
      "3 x 3 = 9\n",
      "4 x 4 = 16\n",
      "5 x 5 = 25\n"
     ]
    }
   ],
   "source": [
    "# Test code for Q2-a)\n",
    "squares(5)"
   ]
  },
  {
   "cell_type": "markdown",
   "metadata": {},
   "source": [
    "**c)** Write a function `permutation` with one input parameter `n` (assumed to be a positive integer). The function should return the number of ways to order `n` distinct items, which is equal to $1 \\times 2 \\times \\cdots \\times n$. "
   ]
  },
  {
   "cell_type": "code",
   "execution_count": 15,
   "metadata": {},
   "outputs": [],
   "source": []
  },
  {
   "cell_type": "code",
   "execution_count": 16,
   "metadata": {},
   "outputs": [
    {
     "data": {
      "text/plain": [
       "120"
      ]
     },
     "execution_count": 16,
     "metadata": {},
     "output_type": "execute_result"
    }
   ],
   "source": [
    "permutation(5)"
   ]
  },
  {
   "cell_type": "markdown",
   "metadata": {},
   "source": [
    "## 2. Syntax of `while` loops"
   ]
  },
  {
   "cell_type": "code",
   "execution_count": 17,
   "metadata": {},
   "outputs": [
    {
     "name": "stdout",
     "output_type": "stream",
     "text": [
      "Count down: 5\n",
      "Count down: 4\n",
      "Count down: 3\n",
      "Count down: 2\n",
      "Count down: 1\n",
      "Take off!\n"
     ]
    }
   ],
   "source": [
    "num=5\n",
    "while num>0:\n",
    "    print('Count down:',num)\n",
    "    num=num-1\n",
    "print('Take off!')"
   ]
  },
  {
   "cell_type": "markdown",
   "metadata": {},
   "source": [
    "### Example 2: Controlling when to stop via user input "
   ]
  },
  {
   "cell_type": "code",
   "execution_count": 18,
   "metadata": {},
   "outputs": [
    {
     "name": "stdout",
     "output_type": "stream",
     "text": [
      "Enter Name (enter STOP to end): Alice\n",
      "Enter Program: MBA\n",
      "Dear Alice,\n",
      "Congratulations! You have been accepted into the MBA Program at USC for Fall 2020.\n",
      "You will receive more details in a packet soon. Hope to see you soon!\n",
      "USC Admissions\n",
      "        \n",
      "Enter Name (enter STOP to end): STOP\n"
     ]
    }
   ],
   "source": [
    "keepGoing=True\n",
    "while keepGoing:\n",
    "    name=input('Enter Name (enter STOP to end): ')\n",
    "    if name=='STOP':\n",
    "        keepGoing=False\n",
    "    else:\n",
    "        program=input('Enter Program: ')\n",
    "        email=f'''Dear {name},\n",
    "Congratulations! You have been accepted into the {program} Program at USC for Fall 2020.\n",
    "You will receive more details in a packet soon. Hope to see you soon!\n",
    "USC Admissions\n",
    "        '''\n",
    "        print(email)"
   ]
  },
  {
   "cell_type": "markdown",
   "metadata": {},
   "source": [
    "## Q3. Practicing `while` loops\n",
    "\n",
    "**a)** Write a while loop which continually asks for the name of an object and prints a message that says good night to the object. The program will only end if the user types nothing before pressing enter. "
   ]
  },
  {
   "cell_type": "code",
   "execution_count": 19,
   "metadata": {},
   "outputs": [
    {
     "name": "stdout",
     "output_type": "stream",
     "text": [
      "Name an object you see: moon\n",
      "Good night, moon!\n",
      "Name an object you see: cow jumping over the moon\n",
      "Good night, cow jumping over the moon!\n",
      "Name an object you see: stars\n",
      "Good night, stars!\n",
      "Name an object you see: chair\n",
      "Good night, chair!\n",
      "Name an object you see: \n"
     ]
    }
   ],
   "source": []
  },
  {
   "cell_type": "markdown",
   "metadata": {},
   "source": [
    "**b)** Re-do Q2-b) and Q2-c) using `while` loops, instead of using `range` and `for` loops. You should name the functions `squares2` and `permutation2` respectively."
   ]
  },
  {
   "cell_type": "code",
   "execution_count": 20,
   "metadata": {},
   "outputs": [],
   "source": []
  },
  {
   "cell_type": "code",
   "execution_count": 21,
   "metadata": {},
   "outputs": [
    {
     "name": "stdout",
     "output_type": "stream",
     "text": [
      "1 x 1 = 1\n",
      "2 x 2 = 4\n",
      "3 x 3 = 9\n"
     ]
    }
   ],
   "source": [
    "squares2(3)"
   ]
  },
  {
   "cell_type": "code",
   "execution_count": 22,
   "metadata": {},
   "outputs": [
    {
     "data": {
      "text/plain": [
       "120"
      ]
     },
     "execution_count": 22,
     "metadata": {},
     "output_type": "execute_result"
    }
   ],
   "source": [
    "permutation2(5)"
   ]
  }
 ],
 "metadata": {
  "kernelspec": {
   "display_name": "Python 3",
   "language": "python",
   "name": "python3"
  },
  "language_info": {
   "codemirror_mode": {
    "name": "ipython",
    "version": 3
   },
   "file_extension": ".py",
   "mimetype": "text/x-python",
   "name": "python",
   "nbconvert_exporter": "python",
   "pygments_lexer": "ipython3",
   "version": "3.7.6"
  }
 },
 "nbformat": 4,
 "nbformat_minor": 4
}
