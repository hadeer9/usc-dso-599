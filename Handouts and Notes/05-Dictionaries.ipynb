{
 "cells": [
  {
   "cell_type": "markdown",
   "metadata": {},
   "source": [
    "# Session 5: Dictionaries"
   ]
  },
  {
   "cell_type": "markdown",
   "metadata": {},
   "source": [
    "## 1. Review of the Data Management System from Session 4 Q1"
   ]
  },
  {
   "cell_type": "code",
   "execution_count": 1,
   "metadata": {},
   "outputs": [],
   "source": [
    "def addCase(name,state):\n",
    "    'Add a case to the database, stored internally as list \"data\".'\n",
    "    data.append([name,state])\n",
    "    \n",
    "def totalCases():\n",
    "    'Obtain the total number of cases.'\n",
    "    return len(data)\n",
    "\n",
    "def retrieveCase(index):\n",
    "    'Retrieve a particular case using its index.'\n",
    "    if index>=len(data) or index<0:\n",
    "        print(f'Invalid index. Need to be between 0 and {len(data)-1}.')\n",
    "    else:\n",
    "        name,state=data[index]\n",
    "        print(f'Case {index} is {name} in {state}.')"
   ]
  },
  {
   "cell_type": "code",
   "execution_count": 2,
   "metadata": {},
   "outputs": [],
   "source": [
    "data=[]\n",
    "addCase('Alice','New York')\n",
    "addCase('Bob','California')\n",
    "addCase('Jack','New York')"
   ]
  },
  {
   "cell_type": "code",
   "execution_count": 3,
   "metadata": {},
   "outputs": [
    {
     "name": "stdout",
     "output_type": "stream",
     "text": [
      "Total # of cases: 3\n"
     ]
    }
   ],
   "source": [
    "print('Total # of cases:',totalCases())"
   ]
  },
  {
   "cell_type": "code",
   "execution_count": 4,
   "metadata": {},
   "outputs": [
    {
     "name": "stdout",
     "output_type": "stream",
     "text": [
      "Case 0 is Alice in New York.\n"
     ]
    }
   ],
   "source": [
    "retrieveCase(0)"
   ]
  },
  {
   "cell_type": "code",
   "execution_count": 5,
   "metadata": {},
   "outputs": [
    {
     "name": "stdout",
     "output_type": "stream",
     "text": [
      "Case 1 is Bob in California.\n"
     ]
    }
   ],
   "source": [
    "retrieveCase(1)"
   ]
  },
  {
   "cell_type": "code",
   "execution_count": 6,
   "metadata": {},
   "outputs": [
    {
     "name": "stdout",
     "output_type": "stream",
     "text": [
      "Invalid index. Need to be between 0 and 2.\n"
     ]
    }
   ],
   "source": [
    "retrieveCase(3)"
   ]
  },
  {
   "cell_type": "markdown",
   "metadata": {},
   "source": [
    "## 2. Syntax for Dictionaries"
   ]
  },
  {
   "cell_type": "code",
   "execution_count": 7,
   "metadata": {},
   "outputs": [],
   "source": [
    "d={'China':80000,'Italy':50000,'Spain':20000}"
   ]
  },
  {
   "cell_type": "code",
   "execution_count": 8,
   "metadata": {},
   "outputs": [
    {
     "data": {
      "text/plain": [
       "80000"
      ]
     },
     "execution_count": 8,
     "metadata": {},
     "output_type": "execute_result"
    }
   ],
   "source": [
    "d['China']"
   ]
  },
  {
   "cell_type": "code",
   "execution_count": 9,
   "metadata": {},
   "outputs": [
    {
     "data": {
      "text/plain": [
       "3"
      ]
     },
     "execution_count": 9,
     "metadata": {},
     "output_type": "execute_result"
    }
   ],
   "source": [
    "len(d)"
   ]
  },
  {
   "cell_type": "code",
   "execution_count": 10,
   "metadata": {},
   "outputs": [],
   "source": [
    "d['Iran']=20000"
   ]
  },
  {
   "cell_type": "code",
   "execution_count": 11,
   "metadata": {},
   "outputs": [
    {
     "data": {
      "text/plain": [
       "{'China': 80000, 'Italy': 50000, 'Spain': 20000, 'Iran': 20000}"
      ]
     },
     "execution_count": 11,
     "metadata": {},
     "output_type": "execute_result"
    }
   ],
   "source": [
    "d"
   ]
  },
  {
   "cell_type": "code",
   "execution_count": 12,
   "metadata": {},
   "outputs": [],
   "source": [
    "d['China']=81000"
   ]
  },
  {
   "cell_type": "code",
   "execution_count": 13,
   "metadata": {},
   "outputs": [
    {
     "data": {
      "text/plain": [
       "{'China': 81000, 'Italy': 50000, 'Spain': 20000, 'Iran': 20000}"
      ]
     },
     "execution_count": 13,
     "metadata": {},
     "output_type": "execute_result"
    }
   ],
   "source": [
    "d"
   ]
  },
  {
   "cell_type": "code",
   "execution_count": 14,
   "metadata": {},
   "outputs": [
    {
     "data": {
      "text/plain": [
       "False"
      ]
     },
     "execution_count": 14,
     "metadata": {},
     "output_type": "execute_result"
    }
   ],
   "source": [
    "'USA' in d"
   ]
  },
  {
   "cell_type": "code",
   "execution_count": 15,
   "metadata": {},
   "outputs": [
    {
     "data": {
      "text/plain": [
       "True"
      ]
     },
     "execution_count": 15,
     "metadata": {},
     "output_type": "execute_result"
    }
   ],
   "source": [
    "'USA' not in d"
   ]
  },
  {
   "cell_type": "code",
   "execution_count": 16,
   "metadata": {},
   "outputs": [
    {
     "data": {
      "text/plain": [
       "dict_keys(['China', 'Italy', 'Spain', 'Iran'])"
      ]
     },
     "execution_count": 16,
     "metadata": {},
     "output_type": "execute_result"
    }
   ],
   "source": [
    "d.keys()"
   ]
  },
  {
   "cell_type": "code",
   "execution_count": 17,
   "metadata": {},
   "outputs": [
    {
     "data": {
      "text/plain": [
       "['China', 'Italy', 'Spain', 'Iran']"
      ]
     },
     "execution_count": 17,
     "metadata": {},
     "output_type": "execute_result"
    }
   ],
   "source": [
    "list(d.keys())"
   ]
  },
  {
   "cell_type": "code",
   "execution_count": 18,
   "metadata": {},
   "outputs": [
    {
     "data": {
      "text/plain": [
       "dict_values([81000, 50000, 20000, 20000])"
      ]
     },
     "execution_count": 18,
     "metadata": {},
     "output_type": "execute_result"
    }
   ],
   "source": [
    "d.values()"
   ]
  },
  {
   "cell_type": "code",
   "execution_count": 19,
   "metadata": {},
   "outputs": [
    {
     "data": {
      "text/plain": [
       "{'China': 81000, 'Italy': 50000, 'Spain': 20000, 'Iran': 20000}"
      ]
     },
     "execution_count": 19,
     "metadata": {},
     "output_type": "execute_result"
    }
   ],
   "source": [
    "d"
   ]
  },
  {
   "cell_type": "code",
   "execution_count": 20,
   "metadata": {},
   "outputs": [],
   "source": [
    "d[5]=['A',3000]"
   ]
  },
  {
   "cell_type": "code",
   "execution_count": 21,
   "metadata": {},
   "outputs": [
    {
     "data": {
      "text/plain": [
       "{'China': 81000, 'Italy': 50000, 'Spain': 20000, 'Iran': 20000, 5: ['A', 3000]}"
      ]
     },
     "execution_count": 21,
     "metadata": {},
     "output_type": "execute_result"
    }
   ],
   "source": [
    "d"
   ]
  },
  {
   "cell_type": "markdown",
   "metadata": {},
   "source": [
    "## Q1. Practicing Syntax\n",
    "\n",
    "Complete each of the following tasks in a separate code cell. Each task builds on the dictionary from the previous task. \n",
    "\n",
    "**a)** Create an empty dictionary.\n",
    "\n",
    "**b)** Add the keys '0', '1', '2', '3', '4', '5', '6', '7', '8', '9' to this dictionary, and each number should maps to its name in English in lowercase. (i.e. the key '3' should map the the value 'three'). You should do this one key-value pair at a time.\n",
    "\n",
    "**c)** Ask the user to input a digit. If the input is one of the keys of the above dictionary, then print \"You entered XXX.\" where XXX is the corresponding value. For any other input, print \"I cannot read your input.\" \n",
    "\n",
    "**d)** Encapsulate the code in part c) in terms of a function called `readNumber` with no inputs. (See sample output below.)"
   ]
  },
  {
   "cell_type": "code",
   "execution_count": 22,
   "metadata": {},
   "outputs": [],
   "source": [
    "# Code for part a)\n"
   ]
  },
  {
   "cell_type": "code",
   "execution_count": 23,
   "metadata": {},
   "outputs": [],
   "source": [
    "# Code for part b)\n"
   ]
  },
  {
   "cell_type": "code",
   "execution_count": 24,
   "metadata": {},
   "outputs": [
    {
     "name": "stdout",
     "output_type": "stream",
     "text": [
      "Please enter a digit: 5\n",
      "You entered five.\n"
     ]
    }
   ],
   "source": [
    "# Code for part c)\n"
   ]
  },
  {
   "cell_type": "code",
   "execution_count": 25,
   "metadata": {},
   "outputs": [],
   "source": [
    "# Code for part d)\n"
   ]
  },
  {
   "cell_type": "code",
   "execution_count": 26,
   "metadata": {},
   "outputs": [
    {
     "name": "stdout",
     "output_type": "stream",
     "text": [
      "Please enter a digit: 0\n",
      "You entered zero.\n",
      "Please enter a digit: 1\n",
      "You entered one.\n",
      "Please enter a digit: 87\n",
      "I cannot read your input.\n",
      "Please enter a digit: nine\n",
      "I cannot read your input.\n"
     ]
    }
   ],
   "source": [
    "# Test code for part d)\n",
    "readNumber()\n",
    "readNumber()\n",
    "readNumber()\n",
    "readNumber()"
   ]
  },
  {
   "cell_type": "markdown",
   "metadata": {},
   "source": [
    "## Q2. Adding to the Data Management System the Capability to Query by State\n",
    "\n",
    "Working with your discussion group, add the following two functions to the data management system (see the code from last session provided at the beginning of this notebook).\n",
    "\n",
    "a) A function called `totalInState` with one input, state. The function should return the total number of cases in this State so far.\n",
    "\n",
    "b) A function called `patientsInState` with one input, state. The function should return a list of names corresponding to all the cases in this State.\n",
    "\n",
    "You should also copy the three functions from last session (see the beginning of this notebook) into the following cell and modify them appropriately, so as to also keep track of cases by State as new cases are being added. See the following testing code for sample outputs."
   ]
  },
  {
   "cell_type": "code",
   "execution_count": 27,
   "metadata": {},
   "outputs": [],
   "source": []
  },
  {
   "cell_type": "code",
   "execution_count": 28,
   "metadata": {},
   "outputs": [
    {
     "data": {
      "text/plain": [
       "3"
      ]
     },
     "execution_count": 28,
     "metadata": {},
     "output_type": "execute_result"
    }
   ],
   "source": [
    "addCase('Alice','New York')\n",
    "addCase('Bob','California')\n",
    "addCase('Jack','New York')\n",
    "totalCases()"
   ]
  },
  {
   "cell_type": "code",
   "execution_count": 29,
   "metadata": {},
   "outputs": [
    {
     "data": {
      "text/plain": [
       "0"
      ]
     },
     "execution_count": 29,
     "metadata": {},
     "output_type": "execute_result"
    }
   ],
   "source": [
    "totalInState('Michigan')"
   ]
  },
  {
   "cell_type": "code",
   "execution_count": 30,
   "metadata": {},
   "outputs": [
    {
     "data": {
      "text/plain": [
       "2"
      ]
     },
     "execution_count": 30,
     "metadata": {},
     "output_type": "execute_result"
    }
   ],
   "source": [
    "totalInState('New York')"
   ]
  },
  {
   "cell_type": "code",
   "execution_count": 31,
   "metadata": {},
   "outputs": [
    {
     "data": {
      "text/plain": [
       "['Alice', 'Jack']"
      ]
     },
     "execution_count": 31,
     "metadata": {},
     "output_type": "execute_result"
    }
   ],
   "source": [
    "patientsInState('New York')"
   ]
  },
  {
   "cell_type": "markdown",
   "metadata": {},
   "source": [
    "## (Optional) Q3. A Simple User Interface"
   ]
  },
  {
   "cell_type": "markdown",
   "metadata": {},
   "source": [
    "Create a simple user interface to the above data management system, by writing a function called `caseManagement` with no input arguments. The function should call the appropriate function based on user's inputs. See the following testing code for examples of how the function behaves. Write your function in the next code cell, which should also initialize the database to be empty. "
   ]
  },
  {
   "cell_type": "code",
   "execution_count": 32,
   "metadata": {},
   "outputs": [],
   "source": []
  },
  {
   "cell_type": "code",
   "execution_count": 33,
   "metadata": {},
   "outputs": [
    {
     "name": "stdout",
     "output_type": "stream",
     "text": [
      "Enter command (add, retrieve, total, totalInState, patientsInState): add\n",
      "Enter patient name: Alice\n",
      "Enter State: New York\n"
     ]
    }
   ],
   "source": [
    "caseManagement()"
   ]
  },
  {
   "cell_type": "code",
   "execution_count": 34,
   "metadata": {},
   "outputs": [
    {
     "name": "stdout",
     "output_type": "stream",
     "text": [
      "Enter command (add, retrieve, total, totalInState, patientsInState): Bob\n",
      "Invalid command\n"
     ]
    }
   ],
   "source": [
    "caseManagement()"
   ]
  },
  {
   "cell_type": "code",
   "execution_count": 35,
   "metadata": {},
   "outputs": [
    {
     "name": "stdout",
     "output_type": "stream",
     "text": [
      "Enter command (add, retrieve, total, totalInState, patientsInState): add\n",
      "Enter patient name: Bob\n",
      "Enter State: California\n"
     ]
    }
   ],
   "source": [
    "caseManagement()"
   ]
  },
  {
   "cell_type": "code",
   "execution_count": 36,
   "metadata": {},
   "outputs": [
    {
     "name": "stdout",
     "output_type": "stream",
     "text": [
      "Enter command (add, retrieve, total, totalInState, patientsInState): totalInState\n",
      "Enter State: New York\n",
      "Number of cases in New York: 1\n"
     ]
    }
   ],
   "source": [
    "caseManagement()"
   ]
  },
  {
   "cell_type": "code",
   "execution_count": 37,
   "metadata": {},
   "outputs": [
    {
     "name": "stdout",
     "output_type": "stream",
     "text": [
      "Enter command (add, retrieve, total, totalInState, patientsInState): patientsInState\n",
      "Enter State: New York\n",
      "List of patients in New York: ['Alice']\n"
     ]
    }
   ],
   "source": [
    "caseManagement()"
   ]
  }
 ],
 "metadata": {
  "kernelspec": {
   "display_name": "Python 3",
   "language": "python",
   "name": "python3"
  },
  "language_info": {
   "codemirror_mode": {
    "name": "ipython",
    "version": 3
   },
   "file_extension": ".py",
   "mimetype": "text/x-python",
   "name": "python",
   "nbconvert_exporter": "python",
   "pygments_lexer": "ipython3",
   "version": "3.7.6"
  }
 },
 "nbformat": 4,
 "nbformat_minor": 4
}
